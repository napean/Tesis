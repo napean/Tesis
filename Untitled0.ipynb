{
 "metadata": {
  "name": ""
 },
 "nbformat": 3,
 "nbformat_minor": 0,
 "worksheets": [
  {
   "cells": [
    {
     "cell_type": "code",
     "collapsed": false,
     "input": [
      "import glob\n",
      "from subprocess import call\n",
      "import pylab\n",
      "import matplotlib.pyplot as plt\n",
      "import matplotlib.mlab as mlab\n",
      "import numpy\n",
      "import glob\n",
      "import sys\n",
      "from scipy.stats import norm\n",
      "from scipy.optimize import leastsq\n",
      "from numpy import *\n",
      "from pylab import *\n",
      "from scipy import *\n",
      "from matplotlib.backends.backend_pdf import PdfPages\n",
      "%pylab inline\n",
      "\n",
      "\n",
      "def calcul(entrada):\n",
      "\n",
      "    mag=[]\n",
      "    #abrimos los datos\n",
      "\n",
      "    #curvas de lus\n",
      "    datos= open (str(entrada)+\".WFI.dat\").read()\n",
      "    \n",
      "    array = datos.split('\\n')\n",
      "    for i in range(len(array)):    \n",
      "         coso = array[i].split(' ')\n",
      "         if len(coso) > 1:\n",
      "                mag.append(float(coso[5]))\n",
      "    magmean = mean(mag)\n",
      "    magsigma = std(mag)\n",
      "    return [magmean, magsigma]\n",
      "    "
     ],
     "language": "python",
     "metadata": {},
     "outputs": [
      {
       "output_type": "stream",
       "stream": "stdout",
       "text": [
        "Populating the interactive namespace from numpy and matplotlib\n"
       ]
      },
      {
       "output_type": "stream",
       "stream": "stderr",
       "text": [
        "WARNING: pylab import has clobbered these variables: ['pkgload', 'show_config', 'log2', 'arccos', 'arctanh', 'info', 'linalg', 'draw_if_interactive', 'arcsin', 'sqrt', '__version__', 'pylab', 'power', 'fft', 'log', 'log10', 'test']\n",
        "`%pylab --no-import-all` prevents importing * from pylab and numpy\n"
       ]
      }
     ],
     "prompt_number": 20
    },
    {
     "cell_type": "code",
     "collapsed": false,
     "input": [
      "a = calcul(205315)\n",
      "print a"
     ],
     "language": "python",
     "metadata": {},
     "outputs": [
      {
       "output_type": "stream",
       "stream": "stdout",
       "text": [
        "[24.282485714285713, 0.10213821767685229]\n"
       ]
      }
     ],
     "prompt_number": 2
    },
    {
     "cell_type": "code",
     "collapsed": false,
     "input": [
      "tdmagmean =[]\n",
      "tdmagsig =[]\n",
      "fileset = glob.glob('*.dat')\n",
      "out = open('magsig.txt', 'w')\n",
      "for nfile in fileset:     \n",
      "      argumen = nfile.split('/')    \n",
      "      nd = argumen[0].split('.')\n",
      "      numero = nd[0]\n",
      "      a = calcul(numero)     \n",
      "      tdmagmean.append(a[0])\n",
      "      tdmagsig.append(a[1])\n",
      "\n"
     ],
     "language": "python",
     "metadata": {},
     "outputs": [],
     "prompt_number": 3
    },
    {
     "cell_type": "code",
     "collapsed": false,
     "input": [
      "print len(tdmagsig)\n",
      "print len(tdmagmean)"
     ],
     "language": "python",
     "metadata": {},
     "outputs": [
      {
       "output_type": "stream",
       "stream": "stdout",
       "text": [
        "2555\n",
        "2555\n"
       ]
      }
     ],
     "prompt_number": 4
    },
    {
     "cell_type": "code",
     "collapsed": false,
     "input": [
      "#plot(tdmagmean, tdmagsig, '.')\n",
      "#show()\n",
      "max1 =  max(tdmagmean)\n",
      "min1 = min(tdmagmean)\n",
      "print min1"
     ],
     "language": "python",
     "metadata": {},
     "outputs": [
      {
       "output_type": "stream",
       "stream": "stdout",
       "text": [
        "15.7520561644\n"
       ]
      }
     ],
     "prompt_number": 5
    },
    {
     "cell_type": "code",
     "collapsed": false,
     "input": [
      "x = []\n",
      "y = []\n",
      "n=20\n",
      "\n",
      "\n",
      "for j in range(n):\n",
      "    contador = []\n",
      "    cont = []\n",
      "    for i in range(len(tdmagmean)):\n",
      "        if(tdmagmean[i]>=j*((max1-min1)/n)+(15) and tdmagmean[i]<=(j+1)*((max1-min1)/n)+(15)):\n",
      "            contador.append(tdmagmean[i])\n",
      "            cont.append(tdmagsig[i])\n",
      "        \n",
      "    \n",
      "    x.append(mean(contador))\n",
      "    y.append(mean(cont))"
     ],
     "language": "python",
     "metadata": {},
     "outputs": [
      {
       "output_type": "stream",
       "stream": "stderr",
       "text": [
        "/usr/lib/python2.7/dist-packages/numpy/core/fromnumeric.py:37: RuntimeWarning: invalid value encountered in double_scalars\n",
        "  result = getattr(asarray(obj),method)(*args, **kwds)\n"
       ]
      }
     ],
     "prompt_number": 6
    },
    {
     "cell_type": "code",
     "collapsed": false,
     "input": [
      "print x\n",
      "print y\n"
     ],
     "language": "python",
     "metadata": {},
     "outputs": [
      {
       "output_type": "stream",
       "stream": "stdout",
       "text": [
        "[nan, 15.752056164383562, nan, nan, nan, 17.973684536082477, 18.137076804123708, nan, 19.330530342477722, 19.926923284938312, 20.432117682182476, 20.955569263431315, 21.446983374962244, 21.967335166850997, 22.435259812894998, 22.941168396658906, 23.456338967496929, 23.97542533959415, 24.475221149463906, 24.943840358987973]\n",
        "[nan, 0.27180123478219076, nan, nan, nan, 0.010119108597371451, 0.0091251431971540974, nan, 0.15238322273235755, 0.22302638808910574, 0.15465337098823348, 0.20367313493469011, 0.2182152106995329, 0.23297460963565272, 0.25771544242127098, 0.24320904684720818, 0.255167531588403, 0.26004365786451089, 0.22827263142684237, 0.21768645628342295]\n"
       ]
      }
     ],
     "prompt_number": 7
    },
    {
     "cell_type": "code",
     "collapsed": false,
     "input": [
      "plot(tdmagmean,tdmagsig,'.')\n",
      "show()"
     ],
     "language": "python",
     "metadata": {},
     "outputs": [],
     "prompt_number": 8
    },
    {
     "cell_type": "code",
     "collapsed": false,
     "input": [
      "plot (x,y, 'o')\n",
      "show()"
     ],
     "language": "python",
     "metadata": {},
     "outputs": [],
     "prompt_number": 9
    },
    {
     "cell_type": "code",
     "collapsed": false,
     "input": [
      "def fun(a,b,x):\n",
      "    return a*exp(x*b)\n"
     ],
     "language": "python",
     "metadata": {},
     "outputs": [],
     "prompt_number": 10
    },
    {
     "cell_type": "code",
     "collapsed": false,
     "input": [
      "file = open(\"puntos.txt\", \"w\")\n",
      "\n",
      "for i in range(len(x)):\n",
      "      file.write(str(x[i]) + ' ' + str(y[i]) + \"\\n\")\n",
      "\n",
      "file.close()"
     ],
     "language": "python",
     "metadata": {},
     "outputs": [],
     "prompt_number": 11
    },
    {
     "cell_type": "code",
     "collapsed": false,
     "input": [
      "def fun(x,a,b,c,d):\n",
      "    return a*x**3+b*x**2+c*x+d"
     ],
     "language": "python",
     "metadata": {},
     "outputs": [],
     "prompt_number": 11
    },
    {
     "cell_type": "code",
     "collapsed": false,
     "input": [
      "\n",
      "\n",
      "archivo=loadtxt(open(\"puntos.txt\",\"r\"))\n",
      "\n",
      "x1=archivo[:,0]\n",
      "y1=archivo[:,1]\n",
      "\n",
      "\n",
      "\n",
      "from scipy.optimize import curve_fit\n",
      "\n",
      "def fun(x,a,b,c,d):\n",
      "    return a*0+b*x**2+c*x+d\n",
      "\n",
      "\n",
      "valores,otros=curve_fit(fun,x1,y1)\n",
      "\n",
      "intervalo=linspace(15,28)\n",
      "funcion=fun(intervalo,valores[0],valores[1],valores[2],valores[3])\n"
     ],
     "language": "python",
     "metadata": {},
     "outputs": [],
     "prompt_number": 28
    },
    {
     "cell_type": "code",
     "collapsed": false,
     "input": [
      "plot(tdmagmean,tdmagsig,\".\")\n",
      "plot(intervalo,funcion,\"o\")\n",
      "xlabel(\"$ Mag $\",size=25)\n",
      "ylabel(\"$ \\sigma $\",size=20)\n",
      "\n",
      "legend()\n"
     ],
     "language": "python",
     "metadata": {},
     "outputs": [
      {
       "metadata": {},
       "output_type": "display_data",
       "png": "[encoded data removed]",
       "text": [
        "<matplotlib.figure.Figure at 0x49a2f50>"
       ]
      }
     ],
     "prompt_number": 29
    },
    {
     "cell_type": "code",
     "collapsed": false,
     "input": [],
     "language": "python",
     "metadata": {},
     "outputs": [],
     "prompt_number": 29
    },
    {
     "cell_type": "code",
     "collapsed": false,
     "input": [],
     "language": "python",
     "metadata": {},
     "outputs": []
    }
   ],
   "metadata": {}
  }
 ]
}