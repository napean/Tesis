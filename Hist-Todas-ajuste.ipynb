{
 "metadata": {
  "name": ""
 },
 "nbformat": 3,
 "nbformat_minor": 0,
 "worksheets": [
  {
   "cells": [
    {
     "cell_type": "code",
     "collapsed": false,
     "input": [
      "# -*- coding: utf-8 -*-\n",
      "# <nbformat>3.0</nbformat>\n",
      "\n",
      "# <codecell>\n",
      "\n",
      "import glob\n",
      "from subprocess import call\n",
      "import pylab\n",
      "import matplotlib.pyplot as plt\n",
      "import matplotlib.mlab as mlab\n",
      "import numpy\n",
      "import glob\n",
      "import sys\n",
      "from scipy.stats import norm\n",
      "from scipy.optimize import leastsq\n",
      "from numpy import *\n",
      "from pylab import *\n",
      "from scipy import *\n",
      "from matplotlib.backends.backend_pdf import PdfPages\n",
      "%matplotlib inline "
     ],
     "language": "python",
     "metadata": {},
     "outputs": [
      {
       "output_type": "stream",
       "stream": "stderr",
       "text": [
        "/usr/local/lib/python2.7/dist-packages/scikits.audiolab-0.11.0-py2.7-linux-x86_64.egg/scikits/__init__.py:1: UserWarning: Module dap was already imported from None, but /usr/lib/python2.7/dist-packages is being added to sys.path\n",
        "  __import__('pkg_resources').declare_namespace(__name__)\n"
       ]
      }
     ],
     "prompt_number": 1
    },
    {
     "cell_type": "heading",
     "level": 1,
     "metadata": {},
     "source": [
      "$ titulo $"
     ]
    },
    {
     "cell_type": "code",
     "collapsed": false,
     "input": [
      "%pylab inline "
     ],
     "language": "python",
     "metadata": {},
     "outputs": [
      {
       "output_type": "stream",
       "stream": "stdout",
       "text": [
        "Populating the interactive namespace from numpy and matplotlib\n"
       ]
      },
      {
       "output_type": "stream",
       "stream": "stderr",
       "text": [
        "WARNING: pylab import has clobbered these variables: ['pkgload', 'show_config', 'log2', 'arccos', 'arctanh', 'info', 'linalg', 'draw_if_interactive', 'arcsin', 'sqrt', '__version__', 'pylab', 'power', 'fft', 'log', 'log10', 'test']\n",
        "`%pylab --no-import-all` prevents importing * from pylab and numpy\n"
       ]
      }
     ],
     "prompt_number": 2
    },
    {
     "cell_type": "code",
     "collapsed": false,
     "input": [
      "#Con esta funcion calculamos el valor ABBE de cada curva\n",
      "\n",
      "def calculabbe(entrada,num):\n",
      "\n",
      "    #abrimos los datos\n",
      "    argumen = entrada.split('/')\n",
      "    \n",
      "    nd = argumen[5].split('.')\n",
      "    numero = nd[0]\n",
      "\n",
      "    #curvas de lus\n",
      "    datos= open (\"Datos/lmc_sc\"+str(num)+\"/phot/I/Fundamental/\"+numero+\".dat\").read()\n",
      "    \n",
      "    #info de cada estrella\n",
      "    datoos= open (\"Datos/lmc_sc\"+str(num)+\"/lmc_sc\"+str(num)+\".tab\").read()\n",
      "    \n",
      "    \n",
      "    \n",
      "    array = datos.split('\\n')\n",
      "    datos1 =  array[0].split(' ') \n",
      "    t0 =  datos1[2]\n",
      "    infosc1 = datoos.split('\\n')\n",
      "    modo = ''\n",
      "    \n",
      "    \n",
      "    # determinamos el periodo\n",
      "    for i in range(len(infosc1)):\n",
      "        cosos = infosc1[i].split(' ')\n",
      "        if len(cosos) > 1:                         \n",
      "                 if cosos[0] == numero:\n",
      "                    periodo = cosos[4]\n",
      "                    logp = cosos[8]\n",
      "                    magmean = cosos[10]\n",
      "    \n",
      "   \n",
      "    modoss = []\n",
      "   \n",
      "    # determinamos el modo\n",
      "    for i in range(len(infosc1)):\n",
      "     cosos2 = infosc1[i].split(' ')\n",
      "     \n",
      "     if len(cosos2) > 1:\n",
      "            \n",
      "             \n",
      "             if cosos2[0] == numero:\n",
      "                          \n",
      "                                modo = cosos2[len(cosos2)-1]   \n",
      "             modoss.append(modo)\n",
      "  \n",
      "    hora=[]\n",
      "    magnitud=[]\n",
      "    error = []\n",
      "    fase = []\n",
      "    fasem = []\n",
      "    \n",
      "    for i in range(len(array)):\n",
      "    \n",
      "     coso = array[i].split(' ')\n",
      "     \n",
      "     if len(coso) > 1:\n",
      "         hora.append(coso[2])\n",
      "         magnitud.append(coso[5])\n",
      "                     #fase1 = ((float(coso[2])-float(t0))/periodo) - int(((float(coso[2])-float(t0))/periodo ))\n",
      "                     #fase.append(fase1)\n",
      "                     #fasem.append(fase1+1)\n",
      "    '''        \n",
      "    for i in range(len(fase)):\n",
      "        fase.append(fasem[i])\n",
      "    \n",
      "  \n",
      "    magnitudf = magnitud + magnitud\n",
      "    \n",
      "    '''   \n",
      "    # <ahora calculemos el abby>\n",
      "    \n",
      "    n = len(magnitud)\n",
      "    \n",
      "\n",
      "    prom = 0\n",
      "    suma = float(0)\n",
      "    for i in range(len(magnitud)):\n",
      "        suma = suma + float(magnitud[i])\n",
      "    prom = suma/ len(magnitud)\n",
      "    \n",
      "    \n",
      "    \n",
      "    sumarri = []\n",
      "    sumab = []\n",
      "    abbe = 0\n",
      "    \n",
      "    algo = len(magnitud)\n",
      "    \n",
      "    for i in range(len(magnitud)-1):\n",
      "        sumarri.append( ( float(magnitud[i+1]) -float(magnitud[i]) )**2)\n",
      "    \n",
      "    for i in range(len(magnitud)):\n",
      "        sumab.append( (float(magnitud[i]) - prom )**2 )\n",
      "    \n",
      "    \n",
      "    algomas = float((2*(algo-1)))\n",
      "    \n",
      "    coso5 = float(algo/algomas)\n",
      "    \n",
      "    aba = sum(sumab)\n",
      "    arri = sum(sumarri)\n",
      "    \n",
      "    abbe=float((arri)/(aba))\n",
      "    realabbe = coso5*abbe\n",
      "    \n",
      "   \n",
      "    out = [realabbe,modo,logp,magmean]\n",
      "    return out\n",
      "        "
     ],
     "language": "python",
     "metadata": {},
     "outputs": [],
     "prompt_number": 3
    },
    {
     "cell_type": "code",
     "collapsed": false,
     "input": [
      "# Calculamos el ABBE para todas las curvas de luz de un campo\n",
      "\n",
      "\n",
      "def todas(cte):\n",
      "    abbee=[]\n",
      "    ID = []\n",
      "    campo = []\n",
      "    out=[]\n",
      "    periodo = []\n",
      "    magmean = []\n",
      "\n",
      "    fileset = glob.glob('Datos/lmc_sc'+str(cte)+'/phot/I/Fundamental/*.dat')\n",
      "    for nfile in fileset:\n",
      "      \n",
      "      info = calculabbe(nfile,cte)\n",
      "      if info[1] == 'FU':\n",
      "          abbee.append(info[0])\n",
      "          periodo.append(info[2])\n",
      "          magmean.append(info[3])\n",
      "          \n",
      "          argumen = nfile.split('/')    \n",
      "          nd = argumen[5].split('.')\n",
      "          numero = nd[0]    \n",
      "          ID.append(numero)\n",
      "          campo.append(cte)\n",
      "            \n",
      "        \n",
      "    \n",
      "    out=[abbee,periodo,magmean,ID,campo]\n",
      "    \n",
      "    return out    \n",
      "  \n",
      "\n",
      "\n",
      "\n",
      "# <codecell>\n"
     ],
     "language": "python",
     "metadata": {},
     "outputs": [],
     "prompt_number": 4
    },
    {
     "cell_type": "code",
     "collapsed": false,
     "input": [
      "# Calculamos el ABBE de todos los campos\n",
      "\n",
      "\n",
      "todaa=[]\n",
      "final=[]\n",
      "IDfin=[]\n",
      "campos=[]\n",
      "periodo = []\n",
      "magmean = []\n",
      "\n",
      "\n",
      "for i in range(22):  \n",
      "    print i\n",
      "    todaa=todas(i)\n",
      "  \n",
      "        \n",
      "    final = final + todaa[0]\n",
      "    periodo = periodo + todaa[1]\n",
      "    magmean =magmean + todaa[2]\n",
      "    IDfin = IDfin + todaa[3]\n",
      "    campos = campos + todaa[4]\n"
     ],
     "language": "python",
     "metadata": {},
     "outputs": [
      {
       "output_type": "stream",
       "stream": "stdout",
       "text": [
        "0\n",
        "1\n",
        "2"
       ]
      },
      {
       "output_type": "stream",
       "stream": "stdout",
       "text": [
        "\n",
        "3"
       ]
      },
      {
       "output_type": "stream",
       "stream": "stdout",
       "text": [
        "\n",
        "4"
       ]
      },
      {
       "output_type": "stream",
       "stream": "stdout",
       "text": [
        "\n",
        "5"
       ]
      },
      {
       "output_type": "stream",
       "stream": "stdout",
       "text": [
        "\n",
        "6"
       ]
      },
      {
       "output_type": "stream",
       "stream": "stdout",
       "text": [
        "\n",
        "7"
       ]
      },
      {
       "output_type": "stream",
       "stream": "stdout",
       "text": [
        "\n",
        "8"
       ]
      },
      {
       "output_type": "stream",
       "stream": "stdout",
       "text": [
        "\n",
        "9"
       ]
      },
      {
       "output_type": "stream",
       "stream": "stdout",
       "text": [
        "\n",
        "10"
       ]
      },
      {
       "output_type": "stream",
       "stream": "stdout",
       "text": [
        "\n",
        "11"
       ]
      },
      {
       "output_type": "stream",
       "stream": "stdout",
       "text": [
        "\n",
        "12"
       ]
      },
      {
       "output_type": "stream",
       "stream": "stdout",
       "text": [
        "\n",
        "13"
       ]
      },
      {
       "output_type": "stream",
       "stream": "stdout",
       "text": [
        "\n",
        "14"
       ]
      },
      {
       "output_type": "stream",
       "stream": "stdout",
       "text": [
        "\n",
        "15"
       ]
      },
      {
       "output_type": "stream",
       "stream": "stdout",
       "text": [
        "\n",
        "16"
       ]
      },
      {
       "output_type": "stream",
       "stream": "stdout",
       "text": [
        "\n",
        "17"
       ]
      },
      {
       "output_type": "stream",
       "stream": "stdout",
       "text": [
        "\n",
        "18"
       ]
      },
      {
       "output_type": "stream",
       "stream": "stdout",
       "text": [
        "\n",
        "19"
       ]
      },
      {
       "output_type": "stream",
       "stream": "stdout",
       "text": [
        "\n",
        "20"
       ]
      },
      {
       "output_type": "stream",
       "stream": "stdout",
       "text": [
        "\n",
        "21"
       ]
      },
      {
       "output_type": "stream",
       "stream": "stdout",
       "text": [
        "\n"
       ]
      }
     ],
     "prompt_number": 5
    },
    {
     "cell_type": "code",
     "collapsed": false,
     "input": [
      "def norm(x, mean, sd):\n",
      "  norm = []\n",
      "  for i in range(x.size):\n",
      "    norm += [1.0/(sd*np.sqrt(2*np.pi))*np.exp(-(x[i] - mean)**2/(2*sd**2))]\n",
      "  return np.array(norm)"
     ],
     "language": "python",
     "metadata": {},
     "outputs": [],
     "prompt_number": 6
    },
    {
     "cell_type": "code",
     "collapsed": false,
     "input": [
      "cajas = 50\n",
      "y , bins, patches = plt.hist(final, cajas)\n",
      "x= []\n",
      "\n",
      "paso = (max(final) - min(final)) / cajas\n",
      "\n",
      "for i in range(len(bins)-1):\n",
      "    \n",
      "    x.append(bins[i]+(paso/2))\n",
      "    \n",
      "\n"
     ],
     "language": "python",
     "metadata": {},
     "outputs": [
      {
       "metadata": {},
       "output_type": "display_data",
       "png": "[encoded data removed]",
       "text": [
        "<matplotlib.figure.Figure at 0x3705ad0>"
       ]
      }
     ],
     "prompt_number": 7
    },
    {
     "cell_type": "code",
     "collapsed": false,
     "input": [
      "\n",
      "\n",
      "# Setting up test data\n",
      "def norm(p,x):\n",
      "    return p[0]*exp(-(x-p[1])**2/(2*p[2]**2))+p[3]*exp(-(x-p[4])**2/(2*p[5]**2))\n",
      "  \n",
      "\n",
      "def e_gauss_fit(p,x,y):\n",
      "    return (norm(p,x) -y) #1d Gaussian fit\n",
      "     \n",
      "v0= [45,1.12,0.07,42,0.77,0.52]  \n",
      "  \n",
      "######################################\n",
      "# Solving\n",
      "m, dm, sd1, sd2 = [0.8, 1.1, 0.1, 0.1]\n",
      "p = [m, dm, sd1, sd2] # Initial guesses for leastsq\n",
      "\n",
      "\n",
      "def res(p, y, x):\n",
      "  m, dm, sd1, sd2 = p\n",
      "  m1 = m\n",
      "  m2 = m1 + dm\n",
      "  y_fit = norm(p,x) \n",
      "  err = y - y_fit\n",
      "  return err\n",
      "\n",
      "plsq = leastsq(e_gauss_fit, v0[:], args=(x, y))\n",
      "print plsq\n",
      "\n",
      "y_est = norm( plsq[0], x) \n",
      "\n",
      "figure(figsize=(15,9))\n",
      "hist(final, cajas,label='Real Data')\n",
      "plot(x, y_est, 'r--', label='Fitted')\n",
      "legend()\n",
      "show()\n",
      "\n",
      "print len(final)"
     ],
     "language": "python",
     "metadata": {},
     "outputs": [
      {
       "output_type": "stream",
       "stream": "stdout",
       "text": [
        "(array([ 50.75927215,   1.1174651 ,   0.06963482,  42.72121093,\n",
        "         0.76974122,   0.05266208]), 1)\n"
       ]
      },
      {
       "metadata": {},
       "output_type": "display_data",
       "png": "[encoded data removed]",
       "text": [
        "<matplotlib.figure.Figure at 0x2488790>"
       ]
      },
      {
       "output_type": "stream",
       "stream": "stdout",
       "text": [
        "770\n"
       ]
      }
     ],
     "prompt_number": 8
    },
    {
     "cell_type": "code",
     "collapsed": false,
     "input": [
      "#Con esta funcion graficas las curvas de luz\n",
      "def graficas(ID,num):\n",
      "\n",
      "    #abrimos los datos\n",
      "    numero = ID\n",
      "    \n",
      "    \n",
      "    #curvas de lus\n",
      "    datos= open (\"Datos/lmc_sc\"+str(num)+\"/phot/I/Fundamental/\"+numero+\".dat\").read()\n",
      "    \n",
      "    #info de cada estrella\n",
      "    datoos= open (\"Datos/lmc_sc\"+str(num)+\"/lmc_sc\"+str(num)+\".tab\").read()\n",
      "    \n",
      "    \n",
      "    array = datos.split('\\n')\n",
      "    datos1 =  array[0].split(' ') \n",
      "    t0 =  datos1[2]\n",
      "    infosc1 = datoos.split('\\n')\n",
      "    periodo = 0\n",
      "    \n",
      "   \n",
      "    # determinamos el periodo\n",
      "    for i in range(len(infosc1)):\n",
      "     cosos = infosc1[i].split(' ')\n",
      "     if len(cosos) > 1:     \n",
      "      \n",
      "             if cosos[0] == numero:\n",
      "                        if cosos[3] == '':\n",
      "                            periodo = float(cosos[4])\n",
      "                        else: \n",
      "                            periodo = float(cosos[3])    \n",
      "    \n",
      "\n",
      "       \n",
      "    hora=[]\n",
      "    magnitud=[]\n",
      "    error = []\n",
      "    fase = []\n",
      "    fasem = []\n",
      "    \n",
      "    out=[]\n",
      "    \n",
      "    for i in range(len(array)):\n",
      "    \n",
      "     coso = array[i].split(' ')\n",
      "     if len(coso) > 1:\n",
      "             hora.append(coso[2])\n",
      "             magnitud.append(coso[5])\n",
      "             fase1 = ((float(coso[2])-float(t0))/periodo) - int(((float(coso[2])-float(t0))/periodo ))\n",
      "             fase.append(fase1)\n",
      "             fasem.append(fase1+1)\n",
      "           \n",
      "    for i in range(len(fase)):\n",
      "        fase.append(fasem[i])\n",
      "    \n",
      "  \n",
      "    magnitudf = magnitud + magnitud\n",
      "    \n",
      "    out=[fase,magnitudf,magnitud,hora]\n",
      "    \n",
      "    return out\n",
      "        "
     ],
     "language": "python",
     "metadata": {},
     "outputs": [],
     "prompt_number": 9
    },
    {
     "cell_type": "code",
     "collapsed": false,
     "input": [
      "print len(campos)\n",
      "print IDfin[8]\n",
      "print campos[8]\n",
      "print magmean[8]\n",
      "print periodo[8]"
     ],
     "language": "python",
     "metadata": {},
     "outputs": [
      {
       "output_type": "stream",
       "stream": "stdout",
       "text": [
        "770\n",
        "306872\n",
        "1\n",
        "15.273\n",
        "0.55087\n"
       ]
      }
     ],
     "prompt_number": 10
    },
    {
     "cell_type": "code",
     "collapsed": false,
     "input": [
      "def func(x,a, b):\n",
      "    return (a + b*x )"
     ],
     "language": "python",
     "metadata": {},
     "outputs": [],
     "prompt_number": 11
    },
    {
     "cell_type": "code",
     "collapsed": false,
     "input": [
      "from scipy.stats import linregress\n",
      "\n",
      "xl = []\n",
      "yl = []\n",
      "for i in range(len(final)):\n",
      "    if (final[i] > 0.93 and final[i] <1.3):\n",
      "        if(periodo[i] != \"\"):\n",
      "            \n",
      "            xl.append(float(periodo[i]))\n",
      "            yl.append(float(magmean [i]))\n",
      "\n",
      "a = linregress(xl,yl)\n",
      "\n",
      "            \n",
      "ya =[]\n",
      "\n",
      "for i in range(len(xl)):\n",
      "    ya.append(func(xl[i],a[1],a[0]))\n",
      "    \n",
      "print a\n",
      "\n",
      "figure(figsize=(11,6.5))\n",
      "plot(xl,yl,'.')\n",
      "plot(xl,ya,'-')\n",
      "plt.title('Relacion P-L Grupo Abbe Alto',fontsize=18)\n",
      "xlabel('log(P)',fontsize=18)\n",
      "ylabel('Mag',fontsize=18)\n",
      "gca().invert_yaxis() \n",
      "show()\n",
      "plt.savefig('PLAbbeAlto.png')"
     ],
     "language": "python",
     "metadata": {},
     "outputs": [
      {
       "output_type": "stream",
       "stream": "stdout",
       "text": [
        "(-2.9837755280749483, 16.93558163555598, -0.90487751702011632, 2.6074230098585934e-165, 0.066915253689633566)\n"
       ]
      },
      {
       "metadata": {},
       "output_type": "display_data",
       "png": "[encoded data removed]",
       "text": [
        "<matplotlib.figure.Figure at 0x3c15650>"
       ]
      },
      {
       "metadata": {},
       "output_type": "display_data",
       "text": [
        "<matplotlib.figure.Figure at 0x3cac310>"
       ]
      }
     ],
     "prompt_number": 22
    },
    {
     "cell_type": "code",
     "collapsed": false,
     "input": [
      "from scipy.stats import linregress\n",
      "\n",
      "xf = []\n",
      "yf = []\n",
      "for i in range(len(final)):\n",
      "    if (final[i] > 0.6 and final[i] <0.93):\n",
      "        if(periodo[i] != \"\"):            \n",
      "            xf.append(float(periodo[i]))\n",
      "            yf.append(float(magmean[i]))\n",
      "            \n",
      "ya2 =[]\n",
      "\n",
      "    \n",
      "a2 = linregress(xf,yf)\n",
      "\n",
      "for i in range(len(xf)):\n",
      "    ya2.append(func(xf[i],a2[1],a2[0]))\n",
      "\n",
      "print a2\n",
      "figure(figsize=(11,6.5))\n",
      "plot(xf,yf,'.')\n",
      "plot(xf,ya2,'-')\n",
      "plt.title('Relacion P-L Grupo Abbe Bajo',fontsize=18)\n",
      "xlabel('log(P)',fontsize=18)\n",
      "ylabel('Mag',fontsize=18)\n",
      "gca().invert_yaxis() \n",
      "show()\n",
      "plt.savefig('PLAbbeBajo.png')"
     ],
     "language": "python",
     "metadata": {},
     "outputs": [
      {
       "output_type": "stream",
       "stream": "stdout",
       "text": [
        "(-3.0188476033449589, 16.891393975172608, -0.95177197994429463, 1.7546398064099797e-137, 0.059892241485927179)\n"
       ]
      },
      {
       "metadata": {},
       "output_type": "display_data",
       "png": "[encoded data removed]",
       "text": [
        "<matplotlib.figure.Figure at 0x3ca8a10>"
       ]
      },
      {
       "metadata": {},
       "output_type": "display_data",
       "text": [
        "<matplotlib.figure.Figure at 0x3c155d0>"
       ]
      }
     ],
     "prompt_number": 24
    },
    {
     "cell_type": "code",
     "collapsed": false,
     "input": [
      "#graficas las curvas de luz deseadas\n",
      "\n",
      "todaa=[]\n",
      "final=[]\n",
      "IDfin=[]\n",
      "campos=[]\n",
      "\n",
      "pdf=PdfPages('multipage_pdf.pdf')\n",
      "for i in range(21):\n",
      "    \n",
      "    todaa=todas(i)\n",
      "    final = final + todaa[0]\n",
      "    IDfin = IDfin + todaa[3]\n",
      "    campos = campos + todaa[4]\n",
      "\n",
      "\n",
      "cont = 0\n",
      "\n",
      "for i in range(len(final)):\n",
      "    if (final[i] > 0.61 and final[i] <0.93):\n",
      "        coso =  graficas(IDfin[i],campos[i])\n",
      "        plt.figure(figsize=(16,16))\n",
      "        plt.subplot(211)\n",
      "        plt.plot(coso[0],coso[1],'.')          \n",
      "        xlabel('$\\Phi$',fontsize=18)\n",
      "        ylabel('Mag',fontsize=18)\n",
      "        plt.gca().invert_yaxis()  \n",
      "     #plt.subplots_adjust(hspace=0.5)\n",
      "        plt.subplot(212)\n",
      "        plt.plot(coso[3],coso[2],'.')\n",
      "        plt.gca().invert_yaxis() \n",
      "        xlabel('HJD',fontsize=18)\n",
      "        ylabel('Mag',fontsize=18)\n",
      "            \n",
      "        plt.savefig(str(final[i])+'-'+str(IDfin[i])+'-'+str(campos[i])+'.png')  # saves the current figure into a pdf page\n",
      "        plt.close()\n",
      "    "
     ],
     "language": "python",
     "metadata": {},
     "outputs": [],
     "prompt_number": "*"
    },
    {
     "cell_type": "code",
     "collapsed": false,
     "input": [],
     "language": "python",
     "metadata": {},
     "outputs": []
    }
   ],
   "metadata": {}
  }
 ]
}