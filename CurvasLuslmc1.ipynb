{
 "metadata": {
  "name": ""
 },
 "nbformat": 3,
 "nbformat_minor": 0,
 "worksheets": [
  {
   "cells": [
    {
     "cell_type": "code",
     "collapsed": false,
     "input": [
      "%pylab inline\n"
     ],
     "language": "python",
     "metadata": {},
     "outputs": [
      {
       "output_type": "stream",
       "stream": "stdout",
       "text": [
        "Populating the interactive namespace from numpy and matplotlib\n"
       ]
      }
     ],
     "prompt_number": 1
    },
    {
     "cell_type": "code",
     "collapsed": false,
     "input": [
      "numero = str(31612)\n",
      "\n",
      "datos= open (\"Datos/lmc_sc1/phot/I/\"+numero+\".dat\").read()\n",
      "datoos= open (\"Datos/lmc_sc1/lmc_sc1.tab\").read()\n",
      "\n",
      "array = datos.split('\\n')\n",
      "datos1 =  array[0].split(' ') \n",
      "t0 =  datos1[2]\n",
      "infosc1 = datoos.split('\\n')\n",
      "periodo = 0\n",
      "\n",
      "for i in range(len(infosc1)):\n",
      " cosos = infosc1[i].split(' ')\n",
      " if len(cosos) > 1:\n",
      "     if cosos[0] == '':\n",
      "         if cosos[1] == numero:\n",
      "            periodo = float(cosos[5])\n",
      "     if cosos[0] != '':\n",
      "         if cosos[0] == numero:\n",
      "            periodo = float(cosos[4])\n",
      "        \n",
      "        \n",
      "print periodo\n",
      "\n"
     ],
     "language": "python",
     "metadata": {},
     "outputs": [
      {
       "output_type": "stream",
       "stream": "stdout",
       "text": [
        "3.28486\n"
       ]
      }
     ],
     "prompt_number": 2
    },
    {
     "cell_type": "code",
     "collapsed": false,
     "input": [
      "hora=[]\n",
      "magnitud=[]\n",
      "error = []\n",
      "fase = []\n",
      "fasem = []\n",
      "\n",
      "\n",
      "for i in range(len(array)):\n",
      "\n",
      " coso = array[i].split(' ')\n",
      " if len(coso) > 1:\n",
      "         hora.append(coso[2])\n",
      "         magnitud.append(coso[5])\n",
      "         fase1 = (( float(coso[2])- float(t0))/periodo) - int(((float(coso[2]) - float(t0))/periodo ))\n",
      "         fase.append(fase1)\n",
      "         fasem.append(fase1+1)\n",
      "            \n",
      "for i in range(len(fase)):\n",
      "    fase.append(fasem[i])\n",
      "\n",
      "\n"
     ],
     "language": "python",
     "metadata": {},
     "outputs": [],
     "prompt_number": 3
    },
    {
     "cell_type": "code",
     "collapsed": false,
     "input": [
      "magnitudf = magnitud + magnitud\n",
      "\n",
      "    "
     ],
     "language": "python",
     "metadata": {},
     "outputs": [],
     "prompt_number": 4
    },
    {
     "cell_type": "code",
     "collapsed": false,
     "input": [
      "print len(magnitudf)\n",
      "print len(fase)"
     ],
     "language": "python",
     "metadata": {},
     "outputs": [
      {
       "output_type": "stream",
       "stream": "stdout",
       "text": [
        "604\n",
        "604\n"
       ]
      }
     ],
     "prompt_number": 5
    },
    {
     "cell_type": "code",
     "collapsed": false,
     "input": [
      "plt.plot(fase , magnitudf , ',')\n",
      "plt.xlabel('$\\Phi$',fontsize=30)\n",
      "plt.ylabel('I (mag)',fontsize=20)\n",
      "plt.gca().invert_yaxis()\n"
     ],
     "language": "python",
     "metadata": {},
     "outputs": [
      {
       "metadata": {},
       "output_type": "display_data",
       "png": "[encoded data removed]",
       "text": [
        "<matplotlib.figure.Figure at 0x36ff550>"
       ]
      }
     ],
     "prompt_number": 16
    },
    {
     "cell_type": "code",
     "collapsed": false,
     "input": [],
     "language": "python",
     "metadata": {},
     "outputs": [],
     "prompt_number": 6
    }
   ],
   "metadata": {}
  }
 ]
}