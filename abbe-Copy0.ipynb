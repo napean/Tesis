{
 "metadata": {
  "name": ""
 },
 "nbformat": 3,
 "nbformat_minor": 0,
 "worksheets": [
  {
   "cells": [
    {
     "cell_type": "code",
     "collapsed": false,
     "input": [
      "# -*- coding: utf-8 -*-\n",
      "# <nbformat>3.0</nbformat>\n",
      "\n",
      "# <codecell>\n",
      "\n",
      "import pylab\n",
      "import matplotlib.pyplot as plt\n",
      "import numpy\n",
      "import glob\n",
      "import sys\n",
      "\n",
      "\n",
      "numero =\"96614\"\n",
      "\n",
      "datos= open (\"Datos/lmc_sc14/phot/I/\"+numero+\".dat\").read()\n",
      "\n",
      "\n",
      "datoos= open (\"Datos/lmc_sc14/lmc_sc14.tab\").read()\n",
      "\n",
      "array = datos.split('\\n')\n",
      "datos1 =  array[0].split(' ') \n",
      "t0 =  datos1[2]\n",
      "infosc1 = datoos.split('\\n')\n",
      "periodo = 0\n",
      "\n",
      "for i in range(len(infosc1)):\n",
      " cosos = infosc1[i].split(' ')\n",
      " if len(cosos) > 1:     \n",
      "  \n",
      "         if cosos[0] == numero:\n",
      "                    if cosos[3] == '':\n",
      "                        periodo = float(cosos[4])\n",
      "                    else: \n",
      "                        periodo = float(cosos[3])    \n",
      "\n",
      "\n",
      "# <codecell>\n",
      "\n",
      "\n",
      "array = datos.split('\\n')\n",
      "datos1 =  array[0].split(' ')\n",
      "t0 =  datos1[2]\n",
      "    \n",
      "hora=[]\n",
      "magnitud=[]\n",
      "error = []\n",
      "fase = []\n",
      "fasem = []\n",
      "\n",
      "for i in range(len(array)):\n",
      "\n",
      " coso = array[i].split(' ')\n",
      " if len(coso) > 1:\n",
      "         hora.append(coso[2])\n",
      "         magnitud.append(coso[5])\n",
      "         fase1 = ((float(coso[2])-float(t0))/periodo) - int(((float(coso[2])-float(t0))/periodo ))\n",
      "         fase.append(fase1)\n",
      "\t fasem.append(fase1+1)\n",
      "\t \n",
      "for i in range(len(fase)):\n",
      "\tfase.append(fasem[i])\n",
      "\n",
      "\n",
      "magnitudf = magnitud + magnitud\n",
      "\n",
      "plt.plot(fase , magnitudf , '.')\n",
      "plt.xlabel('$\\Phi$',fontsize=30)\n",
      "plt.ylabel('I (mag)',fontsize=20)\n",
      "plt.gca().invert_yaxis()\n",
      "\n",
      "plt.show()\n",
      "    \n",
      "    \n",
      "\n",
      "\n",
      "# <codecell>\n",
      "\n",
      "\n",
      "# <codecell>\n",
      "\n"
     ],
     "language": "python",
     "metadata": {},
     "outputs": [
      {
       "output_type": "stream",
       "stream": "stdout",
       "text": [
        "96614\n",
        "12.19611\n"
       ]
      }
     ],
     "prompt_number": "*"
    },
    {
     "cell_type": "code",
     "collapsed": false,
     "input": [
      "print hora\n",
      "print magnitud"
     ],
     "language": "python",
     "metadata": {},
     "outputs": [],
     "prompt_number": "*"
    },
    {
     "cell_type": "code",
     "collapsed": false,
     "input": [],
     "language": "python",
     "metadata": {},
     "outputs": []
    }
   ],
   "metadata": {}
  }
 ]
}